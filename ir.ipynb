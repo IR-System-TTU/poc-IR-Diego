{
 "cells": [
  {
   "cell_type": "code",
   "execution_count": 66,
   "metadata": {},
   "outputs": [],
   "source": [
    "import pandas as pd\n",
    "import string\n",
    "import re\n",
    "import spacy\n",
    "from string import punctuation\n",
    "Spacy_Eng = spacy.load('en_core_web_sm')\n",
    "Spacy_Eng_STOP_WORDS = Spacy_Eng.Defaults.stop_words\n",
    "import nltk\n",
    "from nltk.stem.porter import PorterStemmer\n",
    "p_stemmer = PorterStemmer()\n",
    "from nltk.tokenize import word_tokenize\n",
    "from nltk.corpus import stopwords\n",
    "stop_words = set(stopwords.words('english'))"
   ]
  },
  {
   "cell_type": "code",
   "execution_count": 2,
   "metadata": {},
   "outputs": [],
   "source": [
    "df = pd.read_csv(\"gathered-products-detail.csv\", encoding='latin1') # df"
   ]
  },
  {
   "cell_type": "code",
   "execution_count": 7,
   "metadata": {},
   "outputs": [
    {
     "data": {
      "text/html": [
       "<div>\n",
       "<style scoped>\n",
       "    .dataframe tbody tr th:only-of-type {\n",
       "        vertical-align: middle;\n",
       "    }\n",
       "\n",
       "    .dataframe tbody tr th {\n",
       "        vertical-align: top;\n",
       "    }\n",
       "\n",
       "    .dataframe thead th {\n",
       "        text-align: right;\n",
       "    }\n",
       "</style>\n",
       "<table border=\"1\" class=\"dataframe\">\n",
       "  <thead>\n",
       "    <tr style=\"text-align: right;\">\n",
       "      <th></th>\n",
       "      <th>docID</th>\n",
       "      <th>availabilityStatus</th>\n",
       "      <th>averageRating</th>\n",
       "      <th>brand</th>\n",
       "      <th>model</th>\n",
       "      <th>shortDescription</th>\n",
       "      <th>id</th>\n",
       "      <th>manufacturerName</th>\n",
       "      <th>name</th>\n",
       "      <th>orderMinLimit</th>\n",
       "      <th>...</th>\n",
       "      <th>reviews.roundedAverageOverallRating</th>\n",
       "      <th>reviews.topNegativeReview.reviewSubmissionTime</th>\n",
       "      <th>reviews.topNegativeReview.userNickname</th>\n",
       "      <th>reviews.topNegativeReview.reviewText</th>\n",
       "      <th>reviews.topNegativeReview.reviewTitle</th>\n",
       "      <th>reviews.topPositiveReview.reviewSubmissionTime</th>\n",
       "      <th>reviews.topPositiveReview.userNickname</th>\n",
       "      <th>reviews.topPositiveReview.reviewText</th>\n",
       "      <th>reviews.topPositiveReview.reviewTitle</th>\n",
       "      <th>reviews.totalReviewCount</th>\n",
       "    </tr>\n",
       "  </thead>\n",
       "  <tbody>\n",
       "    <tr>\n",
       "      <th>0</th>\n",
       "      <td>0</td>\n",
       "      <td>IN_STOCK</td>\n",
       "      <td>4.1</td>\n",
       "      <td>Eliminator</td>\n",
       "      <td>HG-41352</td>\n",
       "      <td>[[Eliminator Ant, Roach &amp; Spider Killer4 is a ...</td>\n",
       "      <td>5D3NBXRMIZK4</td>\n",
       "      <td>Eliminator</td>\n",
       "      <td>Eliminator Ant, Roach &amp; Spider Killer4, 20 oz,...</td>\n",
       "      <td>1</td>\n",
       "      <td>...</td>\n",
       "      <td>[[4.1],[4.5],[]]</td>\n",
       "      <td>[[1/28/2022],[],[]]</td>\n",
       "      <td>[[Tom],[],[]]</td>\n",
       "      <td>[[Covered one up in phone. The roach crawled o...</td>\n",
       "      <td>[[Ineffective against common brown cockroach],...</td>\n",
       "      <td>[[4/5/2020],[4/5/2019],[]]</td>\n",
       "      <td>[[amity],[shaziabana],[]]</td>\n",
       "      <td>[[With everything going on in the world you wo...</td>\n",
       "      <td>[[Social distancing should include spiders.],[...</td>\n",
       "      <td>[[119],[200],[]]</td>\n",
       "    </tr>\n",
       "    <tr>\n",
       "      <th>1</th>\n",
       "      <td>1</td>\n",
       "      <td>IN_STOCK</td>\n",
       "      <td>NaN</td>\n",
       "      <td>Spider-Man</td>\n",
       "      <td>78789</td>\n",
       "      <td>[[Celebrate like a superhero using our Spiderm...</td>\n",
       "      <td>158SLECVHWMQ</td>\n",
       "      <td>Unique Industries</td>\n",
       "      <td>Spiderman Party Blowers, 8ct</td>\n",
       "      <td>1</td>\n",
       "      <td>...</td>\n",
       "      <td>NaN</td>\n",
       "      <td>NaN</td>\n",
       "      <td>NaN</td>\n",
       "      <td>NaN</td>\n",
       "      <td>NaN</td>\n",
       "      <td>NaN</td>\n",
       "      <td>NaN</td>\n",
       "      <td>NaN</td>\n",
       "      <td>NaN</td>\n",
       "      <td>[[0],[],[]]</td>\n",
       "    </tr>\n",
       "  </tbody>\n",
       "</table>\n",
       "<p>2 rows × 25 columns</p>\n",
       "</div>"
      ],
      "text/plain": [
       "   docID availabilityStatus  averageRating       brand     model  \\\n",
       "0      0           IN_STOCK            4.1  Eliminator  HG-41352   \n",
       "1      1           IN_STOCK            NaN  Spider-Man     78789   \n",
       "\n",
       "                                    shortDescription            id  \\\n",
       "0  [[Eliminator Ant, Roach & Spider Killer4 is a ...  5D3NBXRMIZK4   \n",
       "1  [[Celebrate like a superhero using our Spiderm...  158SLECVHWMQ   \n",
       "\n",
       "    manufacturerName                                               name  \\\n",
       "0         Eliminator  Eliminator Ant, Roach & Spider Killer4, 20 oz,...   \n",
       "1  Unique Industries                       Spiderman Party Blowers, 8ct   \n",
       "\n",
       "   orderMinLimit  ... reviews.roundedAverageOverallRating  \\\n",
       "0              1  ...                    [[4.1],[4.5],[]]   \n",
       "1              1  ...                                 NaN   \n",
       "\n",
       "  reviews.topNegativeReview.reviewSubmissionTime  \\\n",
       "0                            [[1/28/2022],[],[]]   \n",
       "1                                            NaN   \n",
       "\n",
       "  reviews.topNegativeReview.userNickname  \\\n",
       "0                          [[Tom],[],[]]   \n",
       "1                                    NaN   \n",
       "\n",
       "                reviews.topNegativeReview.reviewText  \\\n",
       "0  [[Covered one up in phone. The roach crawled o...   \n",
       "1                                                NaN   \n",
       "\n",
       "               reviews.topNegativeReview.reviewTitle  \\\n",
       "0  [[Ineffective against common brown cockroach],...   \n",
       "1                                                NaN   \n",
       "\n",
       "  reviews.topPositiveReview.reviewSubmissionTime  \\\n",
       "0                     [[4/5/2020],[4/5/2019],[]]   \n",
       "1                                            NaN   \n",
       "\n",
       "  reviews.topPositiveReview.userNickname  \\\n",
       "0              [[amity],[shaziabana],[]]   \n",
       "1                                    NaN   \n",
       "\n",
       "                reviews.topPositiveReview.reviewText  \\\n",
       "0  [[With everything going on in the world you wo...   \n",
       "1                                                NaN   \n",
       "\n",
       "               reviews.topPositiveReview.reviewTitle reviews.totalReviewCount  \n",
       "0  [[Social distancing should include spiders.],[...         [[119],[200],[]]  \n",
       "1                                                NaN              [[0],[],[]]  \n",
       "\n",
       "[2 rows x 25 columns]"
      ]
     },
     "execution_count": 7,
     "metadata": {},
     "output_type": "execute_result"
    }
   ],
   "source": [
    "df.head(2) # df"
   ]
  },
  {
   "cell_type": "code",
   "execution_count": 13,
   "metadata": {},
   "outputs": [],
   "source": [
    "product_names = [] # list[]\n",
    "docs = [] # list[]\n",
    "for index, row in df.iterrows(): # int, series\n",
    "    stringDoc = '' # str\n",
    "    for key in df.columns: # str\n",
    "        if key == 'name': # exact match\n",
    "            product_names.append(row[key]) # list[str]\n",
    "        stringDoc += ' ' + re.sub(\"[,\\[\\]]\", \" \", str(row[key])) # list[str]\n",
    "    docs.append(stringDoc) # list[str]\n"
   ]
  },
  {
   "cell_type": "code",
   "execution_count": 38,
   "metadata": {},
   "outputs": [
    {
     "data": {
      "text/plain": [
       "[\" 0 IN_STOCK 4.1 Eliminator HG-41352   Eliminator Ant  Roach & Spider Killer4 is a water-based  non-staining formula that kills on contact. This product give you up to eight week control and leaves no lingering odor. Use this product to kill cockroaches  ants  carpenter ants  crickets  firebrats  fleas  silverfish and spiders. This product should be used as a spot treatment indoors along and behind baseboards  around and beneath appliances and beneath and behind sinks. Other areas where insects are often found include in cracks and crevices; around pipes and plumbing; around waste containers; in dark corners of rooms  cabinets and closets. To use this product  shake well before using. Spray insects to kill on contact. For long-lasting control  treat areas where insects are commonly found. Spray surfaces until wet  moving the spray rapidly to prevent excessive wetting and waste of product. When treating for ants  spray around door and window frames. Also treat other entry points and trails.    Raid Ant & Roach Killer 26 has a special formula that kills on contact and keeps killing with residual action for up to 4 weeks* * Roaches and Carpenter ants. Take back your space with this easy-to-use ant and roach spray  It can be applied to surfaces where ants  roaches and other listed bugs may be infesting. Kills a wide variety of insects including roaches  ants  silverfish  crickets  earwigs  household spiders  multicolored Asian lady beetles  stinkbugs  scorpions  and black widow spiders. Fragrance Free \\x96 leaves no lingering chemical odor.    Raid Ant & Roach Killer 26 has a formula that kills on contact and keeps killing with residual action for up to 4 weeks* *Against Roaches and Carpenter Ants.   5D3NBXRMIZK4 Eliminator Eliminator Ant  Roach & Spider Killer4  20 oz  Kills Insects & Spiders 1 Pest Bait  Traps & Killers  {'id': '62AF1F31FB31443B996598297EF52B16'  'url': 'https://i5.walmartimages.com/asr/c9c0c51c-f30f-4eb2-aaf1-88f599167584.d824f7ff13f10b3dcfb9dadd2a04686d.jpeg'  'zoomable': True}  {'id': 'EB9A8702953D49BE9DB47593420764C1'  'url': 'https://i5.walmartimages.com/asr/06f41b37-1b58-44c5-86e7-b936169618e8.ff2c8d5d46d5fb1f03e09012ecd635bb.jpeg'  'zoomable': False}  {'id': '36ABDC838DA346E49640D424B68FE795'  'url': 'https://i5.walmartimages.com/asr/4c79105c-788f-424e-b678-6f5ef7cd1af9.a4f3baa5acf64c13eeeeb0d3f96ec9e4.jpeg'  'zoomable': True}  {'id': '69F7F22AA8D647FB91F84661E831F922'  'url': 'https://i5.walmartimages.com/asr/ae85307d-3c0e-4d30-a4f4-356e7517b029.605f81186953e8c5f44720c46fdb9a79.jpeg'  'zoomable': False}  {'id': '38697A26C3CA414E81CEC3ACCF9E804A'  'url': 'https://i5.walmartimages.com/asr/911feafe-c69a-4cff-8aad-8b4d8404f7d2.df23a68931f3c58b6cb3a32247fdad34.jpeg'  'zoomable': True}  {'id': '0225C74D65AB47949CC13DBFF4C61AAC'  'url': 'https://i5.walmartimages.com/asr/7efde24f-bbb9-4630-b582-dd1c6fa3039f_1.9330e40ee7261bc0108e3ca7a6d73c87.jpeg'  'zoomable': True}  {'id': 'C108B9B2A26F43B8AC431E74287365D8'  'url': 'https://i5.walmartimages.com/asr/cdc25f5c-6b7d-444c-ae3a-18777b9f7a00.6e12d430459a1bd43ef20d3f06a523a7.jpeg'  'zoomable': True}  {'id': '35DE7FD868D548049CC1CA29A8ADD117'  'url': 'https://i5.walmartimages.com/asr/eeb5f629-c89c-4fa9-9d27-c8e0458f602a.412b60b2a5d8bb827c427109206e2b33.jpeg'  'zoomable': False}  https://i5.walmartimages.com/asr/c9c0c51c-f30f-4eb2-aaf1-88f599167584.d824f7ff13f10b3dcfb9dadd2a04686d.jpeg   3.48   $9.99   $4.56     4.084   4.5        4.1   4.5        1/28/2022           Tom           Covered one up in phone. The roach crawled out of the foam and kept going.  Its wings were slightly ruffled.  Curious  I placed it in a jar.  24 hours later it is going strong with pep in its step.  I could wait for it to die of old age but instead placed it outside.  What a lucky roach that I did not have Raid!           Ineffective against common brown cockroach           4/5/2020   4/5/2019        amity   shaziabana        With everything going on in the world you would think the last thing on my mind would be the yearly invasion/attack of spiders to my home   but it's not!!  \\r\\n\\r\\nI enjoy sitting out on the front porch in the rural area I live. I'm doing my part for social distancing   It is very affordable and very effective. I am very happy with it. It kills 98% of the ants and mosquitoes. It really works well        Social distancing should include spiders.   Killer        119   200     \",\n",
       " ' 1 IN_STOCK nan Spider-Man 78789   Celebrate like a superhero using our Spiderman Party Blowers! These party blowouts feature a cool Spiderman design  making them perfect for your Spiderman birthday party. Scatter all 8 blowers on a table for guests to grab  or send them home in goodie bags. Swing into action and shop the rest of our budget-friendly Spiderman themed party supplies!   Pic® Fly Swatter comes in multiple colors and is equipped with an extra long metal wire handle. These fly swatters measure at 20.5\" inches long  allowing you to reach even the most difficult areas where all types of pesky flying insects like to hang out. The head of the Pic® Fly Swatter is also designed with a thin lip  so you can scoop up your kill and throw it in the trash. Hang it around your house using the loop in the handle.   HEB desc 2   158SLECVHWMQ Unique Industries Spiderman Party Blowers  8ct 1 Novelty & Gag Toys  {\\'id\\': \\'A9C7CE1D306449CC8B5C91A45A2F4988\\'  \\'url\\': \\'https://i5.walmartimages.com/asr/35bf6f79-f4e0-4571-a094-c735f99304a2.4dd299fafd04a22aaece722e554445f2.jpeg\\'  \\'zoomable\\': True}  {\\'id\\': \\'4982EB9370EF4DBBAA43EDF56ECC229E\\'  \\'url\\': \\'https://i5.walmartimages.com/asr/7c6ac8bd-8936-4a4b-bd41-0879f93b7feb.76e4d18966bd092b9b3934cf71358bd3.jpeg\\'  \\'zoomable\\': True}  https://i5.walmartimages.com/asr/35bf6f79-f4e0-4571-a094-c735f99304a2.4dd299fafd04a22aaece722e554445f2.jpeg   4.48   $4.99   $3.56   nan nan nan nan nan nan nan nan nan nan   0        ',\n",
       " \" 2 IN_STOCK 4.5 TERRO T2303   count on TERRO Spider & Ant Killer for total protection from spiders  ants and other pests. For both indoor and outdoor use  this 1 lbs. aerosol starts working immediately and continues to provide long-lasting protection for up to four weeks. This spider killing spray works on the - the black widow  brown recluse and hobo spiders. Beyond spiders  this is a multi-purpose spray that also kills a variety of ants  including the carpenter ant  beetles  cockroaches  centipedes  silverfish  ticks and much more. TERRO Spider & Ant Killer targets the nervous systems of insects and arachnids to provide a fast kill on contact. This product is ideal for use around doors and windows  on infested wood  around pipes and in storage areas.   target desc 3   heb desc 3   797YP60W9QV8 Woodstream TERRO Spider and Ant Killer Aerosol Spray  16 Ounce 1 Pest Bait  Traps & Killers  {'id': '1D2AE1FF8AEE45AF81ED86D53E188916'  'url': 'https://i5.walmartimages.com/asr/176c6119-a2b9-40d8-88f0-84fb7372ff93_1.07cd853b298b7067b1233d7fd83db946.jpeg'  'zoomable': True}  {'id': '0F55786B3B634857806180277827EF77'  'url': 'https://i5.walmartimages.com/asr/e9482110-20e3-4116-ac5a-7dab78c2ab01_1.767dce8dbeac2436a818384bb141b00d.jpeg'  'zoomable': True}  https://i5.walmartimages.com/asr/176c6119-a2b9-40d8-88f0-84fb7372ff93_1.07cd853b298b7067b1233d7fd83db946.jpeg   1.48   $3.99   $7.56     4.5424           4.5           11/1/2020           Venis           EXTREMELY disappointed. Raid worked way faster. This stuff is expensive. Will Not be buying again. Got plenty left anyway.           A waste           7/15/2020   4/15/2018        Aanchal   victorias435        Kills spiders in seconds  haven't seen any new ones after I sprayed it everywhere considering there is garden outside   Uh I love it!! It is so fast to kill all the roaches and ants!!! I love the spray version cause it reach everywhere in the house           Fast to kill        59        \",\n",
       " \" 3 IN_STOCK 4.1 Hot Shot HG-36781   With faster knockdown than ever before  Hot Shot Ant  Roach & Spider Killer is our strongest formula yet! This formula kills insects on contact* and keeps killing for up to 3 months** while leaving a fresh floral scent. Use indoors and outdoors to kill ants  cockroaches  spiders  fleas  crickets  Asian ladybeetles  stink bugs  palmetto bugs and water bugs. Indoors this product can be used as a spot treatment along and behind baseboards  around and beneath appliances  beneath and behind sinks  without leaving an oily residue! Other areas where insects are often found include in cracks and crevices; around pipes and plumbing; around waste containers; in dark corners of rooms  cabinets and closets. *Excluding harvester ants. **On non-porous surfaces; excluding spiders  fleas  and carpenter  pharaoh and fire ants.   target desc 4   heb desc 4   3081PVVBCO2K Spectrum Brands Group Hot Shot Fresh Floral Scent Ant  Roach & Spider Killer Spray  21.87 Oz 1 Pest Bait  Traps & Killers  {'id': 'C981BA62855343D5BDDD63343FAEE616'  'url': 'https://i5.walmartimages.com/asr/129f3cc3-c51a-4a8a-860c-bbd067c16911.29da2e9e18b0d0234657e2c9e0126df6.jpeg'  'zoomable': True}  {'id': 'BD9B752A52F2423B81CE44F83EB7690B'  'url': 'https://i5.walmartimages.com/asr/4a5197f6-9c0f-4883-bae6-0c1c5db906ec.ad83a3a5c11a29612f395a8e540407e0.jpeg'  'zoomable': True}  {'id': '15A6E9626521449AABFC4927257603BE'  'url': 'https://i5.walmartimages.com/asr/b2bdced8-5e52-4454-b18d-cf11d87a1266.68fec8192e55dfaa1e2aec0a8dceeb49.jpeg'  'zoomable': True}  {'id': '142FB246D01F4329BED6EB4DFF79ADF5'  'url': 'https://i5.walmartimages.com/asr/2b77e5f7-ac87-44ef-a71f-9f2adf3bced0.2b81faad15f89c3fb81dbf9520dea002.jpeg'  'zoomable': True}  {'id': 'EEF7BA13FF6C45489F8AFD2B54A14189'  'url': 'https://i5.walmartimages.com/asr/58c1da55-973f-4627-ad55-2716fe8ae9d1.6e0e090a5869a355f1d75bd35bc8df8b.jpeg'  'zoomable': True}  {'id': 'C55C3D2AF952401481FD2061D4ED1578'  'url': 'https://i5.walmartimages.com/asr/b0ad5133-e83c-4ce9-a90f-010652495b36.7d28f720999db6053a47b0700485e33d.jpeg'  'zoomable': True}  {'id': '76501B6373BE4C6D95C3D7A6DD45AAB7'  'url': 'https://i5.walmartimages.com/asr/351ab492-cabe-433d-b89f-fd6fbe79fba4_2.ca6cf172cfb57b17739296a69278d875.jpeg'  'zoomable': True}  https://i5.walmartimages.com/asr/129f3cc3-c51a-4a8a-860c-bbd067c16911.29da2e9e18b0d0234657e2c9e0126df6.jpeg   2.48   $2.99   $9.59     4.0974   3.2        4.1   3.2        1/15/2022           armo3090           Sprayed them directly 10 times. did nothing!           Doesn't work for roaches           6/18/2019           Mad           Worked great  seen the biggest spider in my life lastnight. Killed it instantly   size of a tarantula   will be stocking up brought it for my ant problem  worked better with spider!           Wonderful/life saver!!!!!!!!!!!           154   90     \",\n",
       " \" 4 IN_STOCK 4.3 Eliminator HG-21371   Eliminator Ant  Roach & Spider Killer4 is a water-based  non-staining formula that kills on contact. This product give you up to eight week control and leaves no lingering odor. Use this product to kill cockroaches  ants  carpenter ants  crickets  firebrats  fleas  silverfish and spiders. This product should be used as a spot treatment indoors along and behind baseboards  around and beneath appliances and beneath and behind sinks. Other areas where insects are often found include in cracks and crevices; around pipes and plumbing; around waste containers; in dark corners of rooms  cabinets and closets To use this product  shake well before using. Spray insects to kill on contact. For long-lasting control  treat areas where insects are commonly found. Spray surfaces until wet  moving the spray rapidly to prevent excessive wetting and waste of product. When treating for ants  spray around door and window frames. Also treat other entry points and trails.   target desc 5   heb desc 5   47SKUQU8VCQ8 UNITED INDUSTRIES CORPORATION Eliminator Ant  Roach & Spider Killer4  Aerosol Spray  2/20-Ounce 1 Pest Bait  Traps & Killers  {'id': '914D4773DB334F14A99CFB8229479FFC'  'url': 'https://i5.walmartimages.com/asr/acf46641-e2ca-4211-9ce5-b4ddea0d4db3_1.b1ad2cda7ce67210243dd9fab74efbd6.jpeg'  'zoomable': True}  {'id': '409804BE137842BFA23FBB6274FCD2F6'  'url': 'https://i5.walmartimages.com/asr/f096db57-baa2-4ebe-9d38-eabf2fc13722_2.b25a527e3e98fa8991b7f524176ab609.jpeg'  'zoomable': True}  {'id': 'E3D26F33128045A69A7ED2E0906CC34F'  'url': 'https://i5.walmartimages.com/asr/623fb104-3919-4c7b-ac81-0c421abeb0ed_1.4ac7f0d8ea6140296ceb902cfb0028fa.jpeg'  'zoomable': True}  {'id': '9948BA0AAEFD46B88888346683FDE884'  'url': 'https://i5.walmartimages.com/asr/2b928700-7c9a-4441-ba61-b1db7e955f33_1.ecaf15c0dad847ca74c0e998613f6c78.png'  'zoomable': False}  {'id': '1D6F1EACA4A54D0A9973E98DD98081EE'  'url': 'https://i5.walmartimages.com/asr/90fabcc8-445c-43d6-b3bb-48bf5415ac36_1.877416115c7c1429e1598b57b36c155f.png'  'zoomable': False}  {'id': 'F35D6D58C089466E9BEE634C310E52CD'  'url': 'https://i5.walmartimages.com/asr/2de2c235-255a-4667-8cf7-98d062778fdd_1.b3b23f2fc69234b0679b36d829b16441.png'  'zoomable': False}  {'id': '8098A1073A354A21BE22B1F56212BE71'  'url': 'https://i5.walmartimages.com/asr/ac6bfcdc-32c0-42de-ac8e-49577968eff5_1.c2e88feffb4452f34046d2ebae897b8f.png'  'zoomable': False}  {'id': 'DA384D26BD654DDB806E73A9B1C4AE18'  'url': 'https://i5.walmartimages.com/asr/2ba53b02-c719-450a-8316-49f9f71ee7b7_1.6bae0af1e44eb66d782e2c1fbbb8cae0.png'  'zoomable': False}  https://i5.walmartimages.com/asr/acf46641-e2ca-4211-9ce5-b4ddea0d4db3_1.b1ad2cda7ce67210243dd9fab74efbd6.jpeg   1.48   $3.89   $2.56     4.3407   4.6   4.7     4.3   4.6   4.7     7/20/2022           Barbara           It is not very effective for bugs           Don't waste your money.          6/29/2022   2/12/2021        Oz   briaa8         Okay  I used the name brands for many years until I found this brand Eliminator.  Now I buy in duo and get a fantastic deal.  This works exactly like all the big name products.  This eliminates the pests immediately on the spot.  I go out in my backyard  early evening eliminating spiders that come out all over my property and that are in my path.   The smell is strong and stanky but it works and does its job to kill off bugs and rodents in your home car and outside.        The best and Nothing better than this brand!   It works very well for bugs and rodents        91   50     \"]"
      ]
     },
     "execution_count": 38,
     "metadata": {},
     "output_type": "execute_result"
    }
   ],
   "source": [
    "docs"
   ]
  },
  {
   "cell_type": "code",
   "execution_count": 37,
   "metadata": {},
   "outputs": [
    {
     "data": {
      "text/plain": [
       "5"
      ]
     },
     "execution_count": 37,
     "metadata": {},
     "output_type": "execute_result"
    }
   ],
   "source": [
    "len(docs)"
   ]
  },
  {
   "cell_type": "code",
   "execution_count": 176,
   "metadata": {},
   "outputs": [],
   "source": [
    "def stemmed_inverted_index_from_data(\n",
    "    doc_database # list[str,]\n",
    "):\n",
    "    terms_dictionary = {}\n",
    "    for docID, doc in enumerate(doc_database): # int, str; list[(int, str), ]\n",
    "\n",
    "\n",
    "        sentence_doc = word_tokenize(doc) # list[str,];\n",
    "        # stems all words in doc\n",
    "        sentence_str_1 = [p_stemmer.stem(word_tk) for word_tk in sentence_doc]  # list[str,]\n",
    "        sentence_str_1 = \" \".join(sentence_str_1) # str\n",
    "        # subs all symbols/punctuations (including space) with a space (' '); excludes digits\n",
    "        sentence_str_1 = re.sub(r'\\W+', ' ',sentence_str_1)\n",
    "        # subs all digits with a space (' '); a sequence of digits (without space) is given one (' ')\n",
    "        sentence_str_1 = re.sub(r'\\d+', ' ',sentence_str_1)\n",
    "        # subs all symbols AND digits (including spaces) with a space (' '); includes digits\n",
    "        sentence_str_1 = re.sub(r'[^a-zA-Z]', ' ',sentence_str_1)\n",
    "        # compiles a pattern and subs out the pattern in sentence_str_1 with ' '\n",
    "        sentence_str_1 = re.compile('(\\s*)pron(\\s*)').sub(' ', sentence_str_1)\n",
    "\n",
    "        sentence_doc_1 = word_tokenize(sentence_str_1) # list[str,]\n",
    "        # strip removes whitespace at beginning and end of string (not in between)\n",
    "        sentence_str_2 = [str(word_tk_1).strip() for word_tk_1 in sentence_doc_1] # list[str,]\n",
    "        # strings with >=2 chars only\n",
    "        sentence_str_2  = [word_str for word_str in sentence_str_2 if len(word_str) >= 2] # list[str,]\n",
    "        # strings which are not symbols/punctuations\n",
    "        sentence_str_2 = [word_str for word_str in sentence_str_2  if word_str not in punctuation]\n",
    "        # strings which are not stop-words; check with: Spacy_Eng.vocab['word'].is_stop\n",
    "        sentence_str_2 = [word_str for word_str in sentence_str_2 if word_str not in stop_words]\n",
    "\n",
    "        for term in sentence_str_2: # 'str'\n",
    "            if term in terms_dictionary:\n",
    "                terms_dictionary[term][0] += 1 # int; doc freq\n",
    "                terms_dictionary[term][1].append(docID) # list[int,]\n",
    "            else:\n",
    "                terms_dictionary[term] =[[],[]] # list[[int], [int, ]]; list[[doc freq], [docIds,]]\n",
    "                terms_dictionary[term][0] = 1 # int; doc freq\n",
    "                terms_dictionary[term][1].append(docID)\n",
    "    return terms_dictionary"
   ]
  },
  {
   "cell_type": "code",
   "execution_count": 162,
   "metadata": {},
   "outputs": [],
   "source": [
    "doc1 = 'this is an apple, it is kind of fresh but also small, $2.99'\n",
    "doc2 = 'never seen an orange like this one'\n",
    "doc3 = 'these grapes are kind of small'\n",
    "\n",
    "doc_database = [doc1, doc2, doc3]"
   ]
  },
  {
   "cell_type": "code",
   "execution_count": 182,
   "metadata": {},
   "outputs": [],
   "source": [
    "inverted_index_dictionary = stemmed_inverted_index_from_data(doc_database)"
   ]
  },
  {
   "cell_type": "code",
   "execution_count": 228,
   "metadata": {},
   "outputs": [],
   "source": [
    "def query_processing(\n",
    "    query # str\n",
    "):\n",
    "    posting_list = [] # list[]\n",
    "    query_terms = query.split() #list[str, ]\n",
    "    each_term = 0 # int\n",
    "\n",
    "    for term in query_terms: # str       \n",
    "\n",
    "        edit_dist_list = [[key, nltk.edit_distance(term, key)]  for key in inverted_index_dictionary.keys()]\n",
    "        edit_dist_list_1 = list(zip(*edit_dist_list)) # list[(str,)(int)]\n",
    "        internal_query = edit_dist_list_1[0][edit_dist_list_1[1].index(min(edit_dist_list_1[1]))] # str\n",
    "\n",
    "        posting_list.append(inverted_index_dictionary[internal_query][1]) # list[[int, ], ]\n",
    "        each_term +=1\n",
    "    for current_term in posting_list:\n",
    "        for docIDof_cur_term in current_term:\n",
    "            print(doc_database[docIDof_cur_term])\n",
    "    return posting_list"
   ]
  },
  {
   "cell_type": "code",
   "execution_count": 227,
   "metadata": {},
   "outputs": [
    {
     "name": "stdout",
     "output_type": "stream",
     "text": [
      "this is an apple, it is kind of fresh but also small, $2.99\n",
      "never seen an orange like this one\n"
     ]
    }
   ],
   "source": [
    "query = 'appel seem' # 'str' typo; on both terms\n",
    "all_postings = query_processing(query)"
   ]
  },
  {
   "cell_type": "code",
   "execution_count": null,
   "metadata": {},
   "outputs": [],
   "source": [
    "def or_postings(posting1, posting2):\n",
    "  p1 = 0\n",
    "  p2 = 0\n",
    "  result = list()\n",
    "  while p1 < len(posting1) and p2 < len(posting2):\n",
    "    if posting1[p1] == posting2[p2]:\n",
    "      result.append(posting1[p1])\n",
    "      p1 += 1\n",
    "      p2 += 2\n",
    "    elif posting1[p1] > posting2[p2]:\n",
    "      result.append(posting2[p2])\n",
    "      p2 += 1\n",
    "    else:\n",
    "      result.append(posting1[p1])\n",
    "      p1 += 1\n",
    "  while p1 < len(posting1):\n",
    "    result.append(posting1[p1])\n",
    "    p1 += 1\n",
    "  while p2 < len(posting2):\n",
    "    result.append(posting2[p2])\n",
    "    p2 += 1\n",
    "    \n",
    "  return result\n"
   ]
  }
 ],
 "metadata": {
  "interpreter": {
   "hash": "990e33e5d257f203d6dbbe97b600957464dfb55a0c2006ef419f51d1275108a4"
  },
  "kernelspec": {
   "display_name": "Python 3.8.5 ('mynewenv')",
   "language": "python",
   "name": "python3"
  },
  "language_info": {
   "codemirror_mode": {
    "name": "ipython",
    "version": 3
   },
   "file_extension": ".py",
   "mimetype": "text/x-python",
   "name": "python",
   "nbconvert_exporter": "python",
   "pygments_lexer": "ipython3",
   "version": "3.6.13"
  },
  "orig_nbformat": 4
 },
 "nbformat": 4,
 "nbformat_minor": 2
}
